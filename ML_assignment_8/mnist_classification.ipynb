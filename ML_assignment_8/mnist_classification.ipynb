{
 "cells": [
  {
   "cell_type": "markdown",
   "id": "fe138a8f",
   "metadata": {},
   "source": [
    "# MNIST Classification using Neural Networks\n",
    "Implementation of MNIST digit classification using both Fully Connected Neural Network (FCNN) and Convolutional Neural Network (CNN)."
   ]
  },
  {
   "cell_type": "markdown",
   "id": "8e6c4fe5",
   "metadata": {},
   "source": [
    "## Import Required Libraries"
   ]
  },
  {
   "cell_type": "code",
   "execution_count": null,
   "id": "72b8867e",
   "metadata": {},
   "outputs": [],
   "source": [
    "import numpy as np\n",
    "from tensorflow import keras\n",
    "from tensorflow.keras import layers\n",
    "from tensorflow.keras.models import Sequential\n",
    "from tensorflow.keras.layers import Dense, Flatten, Conv2D, MaxPooling2D\n",
    "from tensorflow.keras.utils import to_categorical\n",
    "import matplotlib.pyplot as plt"
   ]
  },
  {
   "cell_type": "markdown",
   "id": "18043905",
   "metadata": {},
   "source": [
    "## Load and Explore the MNIST Dataset"
   ]
  },
  {
   "cell_type": "code",
   "execution_count": null,
   "id": "4109ede7",
   "metadata": {},
   "outputs": [],
   "source": [
    "# Load MNIST dataset\n",
    "(X_train, y_train), (X_test, y_test) = keras.datasets.mnist.load_data()\n",
    "\n",
    "# Print shapes\n",
    "print('Training Data Shape:', X_train.shape)\n",
    "print('Training Labels Shape:', y_train.shape)\n",
    "print('Testing Data Shape:', X_test.shape)\n",
    "print('Testing Labels Shape:', y_test.shape)\n",
    "\n",
    "# Display sample image\n",
    "plt.imshow(X_train[0], cmap='gray')\n",
    "plt.title(f'Label: {y_train[0]}')\n",
    "plt.show()"
   ]
  },
  {
   "cell_type": "markdown",
   "id": "ec8a3697",
   "metadata": {},
   "source": [
    "## Preprocess the Data for Fully Connected Neural Network"
   ]
  },
  {
   "cell_type": "code",
   "execution_count": null,
   "id": "648d6c64",
   "metadata": {},
   "outputs": [],
   "source": [
    "# Flatten and normalize data for FCNN\n",
    "X_train_fcnn = X_train.reshape(X_train.shape[0], -1) / 255.0\n",
    "X_test_fcnn = X_test.reshape(X_test.shape[0], -1) / 255.0\n",
    "\n",
    "# One-hot encode labels\n",
    "y_train_encoded = to_categorical(y_train)\n",
    "y_test_encoded = to_categorical(y_test)"
   ]
  },
  {
   "cell_type": "markdown",
   "id": "3f5843dc",
   "metadata": {},
   "source": [
    "## Build and Train a Fully Connected Neural Network"
   ]
  },
  {
   "cell_type": "code",
   "execution_count": null,
   "id": "43dc1068",
   "metadata": {},
   "outputs": [],
   "source": [
    "# Create FCNN model\n",
    "fcnn_model = Sequential([\n",
    "    Dense(128, activation='relu', input_shape=(784,)),\n",
    "    Dense(64, activation='relu'),\n",
    "    Dense(10, activation='softmax')\n",
    "])\n",
    "\n",
    "# Compile model\n",
    "fcnn_model.compile(optimizer='adam',\n",
    "                  loss='categorical_crossentropy',\n",
    "                  metrics=['accuracy'])\n",
    "\n",
    "# Train model\n",
    "fcnn_history = fcnn_model.fit(X_train_fcnn, y_train_encoded,\n",
    "                             batch_size=128,\n",
    "                             epochs=10,\n",
    "                             validation_split=0.2)"
   ]
  },
  {
   "cell_type": "markdown",
   "id": "a9e10878",
   "metadata": {},
   "source": [
    "## Evaluate the Fully Connected Neural Network"
   ]
  },
  {
   "cell_type": "code",
   "execution_count": null,
   "id": "f7bdb100",
   "metadata": {},
   "outputs": [],
   "source": [
    "# Evaluate FCNN\n",
    "fcnn_test_loss, fcnn_test_acc = fcnn_model.evaluate(X_test_fcnn, y_test_encoded)\n",
    "print(f'FCNN Test accuracy: {fcnn_test_acc:.4f}')"
   ]
  },
  {
   "cell_type": "markdown",
   "id": "ee8302fd",
   "metadata": {},
   "source": [
    "## Preprocess the Data for Convolutional Neural Network"
   ]
  },
  {
   "cell_type": "code",
   "execution_count": null,
   "id": "6b6ec0a1",
   "metadata": {},
   "outputs": [],
   "source": [
    "# Reshape and normalize data for CNN\n",
    "X_train_cnn = X_train.reshape(-1, 28, 28, 1) / 255.0\n",
    "X_test_cnn = X_test.reshape(-1, 28, 28, 1) / 255.0"
   ]
  },
  {
   "cell_type": "markdown",
   "id": "99715802",
   "metadata": {},
   "source": [
    "## Build and Train a Convolutional Neural Network"
   ]
  },
  {
   "cell_type": "code",
   "execution_count": null,
   "id": "25803918",
   "metadata": {},
   "outputs": [],
   "source": [
    "# Create CNN model\n",
    "cnn_model = Sequential([\n",
    "    Conv2D(32, (3, 3), activation='relu', input_shape=(28, 28, 1)),\n",
    "    MaxPooling2D((2, 2)),\n",
    "    Conv2D(64, (3, 3), activation='relu'),\n",
    "    MaxPooling2D((2, 2)),\n",
    "    Flatten(),\n",
    "    Dense(64, activation='relu'),\n",
    "    Dense(10, activation='softmax')\n",
    "])\n",
    "\n",
    "# Compile model\n",
    "cnn_model.compile(optimizer='adam',\n",
    "                 loss='categorical_crossentropy',\n",
    "                 metrics=['accuracy'])\n",
    "\n",
    "# Train model\n",
    "cnn_history = cnn_model.fit(X_train_cnn, y_train_encoded,\n",
    "                           batch_size=128,\n",
    "                           epochs=10,\n",
    "                           validation_split=0.2)"
   ]
  },
  {
   "cell_type": "markdown",
   "id": "b13d3755",
   "metadata": {},
   "source": [
    "## Evaluate the Convolutional Neural Network"
   ]
  },
  {
   "cell_type": "code",
   "execution_count": null,
   "id": "e74bfb56",
   "metadata": {},
   "outputs": [],
   "source": [
    "# Evaluate CNN\n",
    "cnn_test_loss, cnn_test_acc = cnn_model.evaluate(X_test_cnn, y_test_encoded)\n",
    "print(f'CNN Test accuracy: {cnn_test_acc:.4f}')\n",
    "\n",
    "# Compare results\n",
    "print('\\nModel Comparison:')\n",
    "print(f'FCNN Test Accuracy: {fcnn_test_acc:.4f}')\n",
    "print(f'CNN Test Accuracy: {cnn_test_acc:.4f}')"
   ]
  }
 ],
 "metadata": {
  "language_info": {
   "name": "python"
  }
 },
 "nbformat": 4,
 "nbformat_minor": 5
}
